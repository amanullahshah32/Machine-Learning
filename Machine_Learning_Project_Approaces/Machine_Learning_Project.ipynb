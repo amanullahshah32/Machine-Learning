{
  "nbformat": 4,
  "nbformat_minor": 0,
  "metadata": {
    "colab": {
      "provenance": [],
      "private_outputs": true,
      "authorship_tag": "ABX9TyPwoG5uGIj4w+BBIJVuDpw6",
      "include_colab_link": true
    },
    "kernelspec": {
      "name": "python3",
      "display_name": "Python 3"
    },
    "language_info": {
      "name": "python"
    }
  },
  "cells": [
    {
      "cell_type": "markdown",
      "metadata": {
        "id": "view-in-github",
        "colab_type": "text"
      },
      "source": [
        "<a href=\"https://colab.research.google.com/github/amanullahshah32/Machine-Learning/blob/main/Machine_Learning_Project_Approaces/Machine_Learning_Project.ipynb\" target=\"_parent\"><img src=\"https://colab.research.google.com/assets/colab-badge.svg\" alt=\"Open In Colab\"/></a>"
      ]
    },
    {
      "cell_type": "markdown",
      "source": [
        "Steps for   approaching ML problems:\n",
        "\n",
        "1. Understand the business requirements and the nature of the available data.\n",
        "2. Classify the problem as supervised/unsupervised and regression/classification.\n",
        "3. Download, clean & explore the data and create new features that may improve models.\n",
        "4. Create training/test/validation sets and prepare the data for training ML models.\n",
        "5. Create a quick & easy baseline model to evaluate and benchmark future models.\n",
        "6. Pick a modeling strategy, train a model, and tune hyperparameters to achieve optimal fit.\n",
        "7. Experiment and combine results from multiple strategies to get a better result.\n",
        "8. Interpret models, study individual predictions, and present your findings."
      ],
      "metadata": {
        "id": "dE-a1o0f-mPV"
      }
    },
    {
      "cell_type": "code",
      "execution_count": null,
      "metadata": {
        "id": "Xh9TcwOa-OuM"
      },
      "outputs": [],
      "source": [
        "import matplotlib\n",
        "import numpy as np\n",
        "import pandas as pd\n",
        "import matplotlib.pyplot as plt\n",
        "import seaborn as sns\n",
        "import plotly.express as px\n",
        "%matplotlib inline\n",
        "\n",
        "sns.set_style('darkgrid')\n",
        "matplotlib.rcParams['font.size'] = 14\n",
        "matplotlib.rcParams['figure.figsize'] = (10, 6)\n",
        "matplotlib.rcParams['figure.facecolor'] = '#00000000'"
      ]
    },
    {
      "cell_type": "markdown",
      "source": [
        "## Step 1 - Understand Business Requirements & Nature of Data\n",
        "\n",
        "<img src=\"https://i.imgur.com/63XEArk.png\" width=\"640\">\n",
        "\n",
        "\n",
        "Most machine learning models are trained to serve a real-world use case. It's important to understand the business requirements, modeling objectives and the nature of the data available before you start building a machine learning model."
      ],
      "metadata": {
        "id": "VhV-DHFbFG5E"
      }
    },
    {
      "cell_type": "markdown",
      "source": [
        "### Understanding the Big Picture\n",
        "\n",
        "The first step in any machine learning problem is to read the given documentation, talk to various stakeholders and identify the following:\n",
        "\n",
        "1. What is the business problem you're trying to solve using machine learning?\n",
        "2. Why are we interested in solving this problem? What impact will it have on the business?\n",
        "3. How is this problem solved currently, without any machine learning tools?\n",
        "4. Who will use the results of this model, and how does it fit into other business processes?\n",
        "5. How much historical data do we have, and how was it collected?\n",
        "6. What features does the historical data contain? Does it contain the historical values for what we're trying to predict.\n",
        "7. What are some known issues with the data (data entry errors, missing data, differences in units etc.)\n",
        "8. Can we look at some sample rows from the dataset? How representative are they of the entire dataset.\n",
        "9. Where is the data stored and how will you get access to it?\n",
        "10. ...\n",
        "\n",
        "\n",
        "Gather as much information about the problem as possible, so that you're clear understanding of the objective and feasibility of the project."
      ],
      "metadata": {
        "id": "Uau5bu7EG8j9"
      }
    },
    {
      "cell_type": "markdown",
      "source": [
        "## Step 2 - Classify the problem as supervised/unsupervised & regression/classification\n",
        "\n",
        "<img src=\"https://i.imgur.com/rqt2A7F.png\" width=\"640\">\n",
        "\n",
        "Here's the landscape of machine learning([source](https://medium.datadriveninvestor.com/machine-learning-in-10-minutes-354d83e5922e)):\n",
        "\n",
        "<img src=\"https://miro.medium.com/max/842/1*tlQwBmbL6RkuuFq8OPJofw.png\" width=\"640\">"
      ],
      "metadata": {
        "id": "JoMX5im-b7HW"
      }
    },
    {
      "cell_type": "markdown",
      "source": [
        "\n",
        "\n",
        "Here are the topics in machine learning that we're studying in this course ([source](https://vas3k.com/blog/machine_learning/)):\n",
        "\n",
        "<img src=\"https://i.imgur.com/VbVFAsg.png\" width=\"640\">\n",
        "\n"
      ],
      "metadata": {
        "id": "qAjuWCI_cGSM"
      }
    },
    {
      "cell_type": "markdown",
      "source": [
        "### Loss Functions and Evaluation Metrics\n",
        "\n",
        "Once you have identified the type of problem you're solving, you need to pick an appropriate evaluation metric. Also, depending on the kind of model you train, your model will also use a loss/cost function to optimize during the training process.\n",
        "\n",
        "* **Evaluation metrics** - they're used by humans to evaluate the ML model\n",
        "\n",
        "* **Loss functions** - they're used by computers to optimize the ML model\n",
        "\n",
        "They are often the same (e.g. RMSE for regression problems), but they can be different (e.g. Cross entropy and Accuracy for classification problems).\n",
        "\n",
        "See this article for a survey of common loss functions and evaluation metrics: https://towardsdatascience.com/11-evaluation-metrics-data-scientists-should-be-familiar-with-lessons-from-a-high-rank-kagglers-8596f75e58a7"
      ],
      "metadata": {
        "id": "KjudBoLxdCwd"
      }
    },
    {
      "cell_type": "code",
      "source": [
        "from google.colab import drive\n",
        "drive.mount('/content/drive')"
      ],
      "metadata": {
        "id": "7hbmhsTH_b-1"
      },
      "execution_count": null,
      "outputs": []
    },
    {
      "cell_type": "code",
      "source": [
        "ross_df = pd.read_csv('/content/drive/MyDrive/Datasets/rossmann-store-sales/train.csv')"
      ],
      "metadata": {
        "id": "1GcbhHrCfoBY"
      },
      "execution_count": null,
      "outputs": []
    },
    {
      "cell_type": "code",
      "source": [
        "ross_df"
      ],
      "metadata": {
        "id": "2sFuVHfDgFvB"
      },
      "execution_count": null,
      "outputs": []
    },
    {
      "cell_type": "code",
      "source": [
        "store_df = pd.read_csv('/content/drive/MyDrive/Datasets/rossmann-store-sales/store.csv')"
      ],
      "metadata": {
        "id": "DMDaliqagIHo"
      },
      "execution_count": null,
      "outputs": []
    },
    {
      "cell_type": "code",
      "source": [
        "store_df\n"
      ],
      "metadata": {
        "id": "2BpWBVOFgOYY"
      },
      "execution_count": null,
      "outputs": []
    },
    {
      "cell_type": "markdown",
      "source": [
        "### we can merge the two data freames to get a richer set of feature for each row of the training set"
      ],
      "metadata": {
        "id": "BFTnsOzWghTV"
      }
    },
    {
      "cell_type": "code",
      "source": [
        "merged_df = ross_df.merge(store_df,  on='Store')"
      ],
      "metadata": {
        "id": "Y8caeFhLgQNH"
      },
      "execution_count": null,
      "outputs": []
    },
    {
      "cell_type": "code",
      "source": [
        "merged_df"
      ],
      "metadata": {
        "id": "fRner_m9gzyX"
      },
      "execution_count": null,
      "outputs": []
    },
    {
      "cell_type": "code",
      "source": [
        "merged_df.shape"
      ],
      "metadata": {
        "id": "fdmzhu0vg1lf"
      },
      "execution_count": null,
      "outputs": []
    },
    {
      "cell_type": "code",
      "source": [
        "test_df = pd.read_csv('/content/drive/MyDrive/Datasets/rossmann-store-sales/test.csv')"
      ],
      "metadata": {
        "id": "-E5ymv3LhLqg"
      },
      "execution_count": null,
      "outputs": []
    },
    {
      "cell_type": "code",
      "source": [
        "merged_test_df = test_df.merge(store_df, on='Store')"
      ],
      "metadata": {
        "id": "W-UiC_4Cdx7P"
      },
      "execution_count": null,
      "outputs": []
    },
    {
      "cell_type": "code",
      "source": [
        "merged_test_df"
      ],
      "metadata": {
        "id": "TSWuZBR4eDOY"
      },
      "execution_count": null,
      "outputs": []
    },
    {
      "cell_type": "markdown",
      "source": [
        "# Cleaning Data\n",
        "\n",
        "### the first step is to check the column data types and identify if there are any null values"
      ],
      "metadata": {
        "id": "Vi6169ONJzeO"
      }
    },
    {
      "cell_type": "code",
      "source": [
        "merged_df.info()"
      ],
      "metadata": {
        "id": "xSnK4DwVeEwY"
      },
      "execution_count": null,
      "outputs": []
    },
    {
      "cell_type": "code",
      "source": [
        "round(merged_df.describe().T,2)"
      ],
      "metadata": {
        "id": "MHSFHLH8KDl_"
      },
      "execution_count": null,
      "outputs": []
    },
    {
      "cell_type": "code",
      "source": [
        "merged_df['Store'].unique()"
      ],
      "metadata": {
        "id": "YXnLx8Kue8I2"
      },
      "execution_count": null,
      "outputs": []
    },
    {
      "cell_type": "code",
      "source": [
        "#df= merged_df[merged_df['Store']>3]"
      ],
      "metadata": {
        "id": "azoVmN_prbfn"
      },
      "execution_count": null,
      "outputs": []
    },
    {
      "cell_type": "code",
      "source": [
        "# df"
      ],
      "metadata": {
        "id": "rQzAKmPVso2t"
      },
      "execution_count": null,
      "outputs": []
    },
    {
      "cell_type": "code",
      "source": [
        "merged_df.duplicated().sum()"
      ],
      "metadata": {
        "id": "bWwx3cz-tUfl"
      },
      "execution_count": null,
      "outputs": []
    },
    {
      "cell_type": "code",
      "source": [
        "merged_df['Date'] = pd.to_datetime(merged_df.Date)"
      ],
      "metadata": {
        "id": "JoobR4Tgt9Z9"
      },
      "execution_count": null,
      "outputs": []
    },
    {
      "cell_type": "code",
      "source": [
        "merged_test_df['Date']= pd.to_datetime(merged_test_df.Date)"
      ],
      "metadata": {
        "id": "s6yRgtzUuL-d"
      },
      "execution_count": null,
      "outputs": []
    },
    {
      "cell_type": "code",
      "source": [
        "merged_df"
      ],
      "metadata": {
        "id": "0skbvOHWuTw9"
      },
      "execution_count": null,
      "outputs": []
    },
    {
      "cell_type": "code",
      "source": [
        "merged_df.Date.min(), merged_df['Date'].max()"
      ],
      "metadata": {
        "id": "hDK6CMjkvj8t"
      },
      "execution_count": null,
      "outputs": []
    },
    {
      "cell_type": "code",
      "source": [
        "merged_test_df.Date.min(), merged_test_df.Date.max()"
      ],
      "metadata": {
        "id": "W2REmEEAvl_t"
      },
      "execution_count": null,
      "outputs": []
    },
    {
      "cell_type": "markdown",
      "source": [
        "# Exploratory Data Analysis and Visualization\n",
        "\n",
        "Objectives of exploratory data analysis:\n",
        "\n",
        "- Study the distributions of individual columns (uniform, normal, exponential)\n",
        "- Detect anomalies or errors in the data (e.g. missing/incorrect values)\n",
        "- Study the relationship of target column with other columns (linear, non-linear etc.)\n",
        "- Gather insights about the problem and the dataset\n",
        "- Come up with ideas for preprocessing and feature engineering\n",
        "\n"
      ],
      "metadata": {
        "id": "04v-bI5a0jfN"
      }
    },
    {
      "cell_type": "code",
      "source": [
        "sns.set_theme(rc={'figure.figsize':(11.7,8.27)})"
      ],
      "metadata": {
        "id": "Y2TZS6XR3Ub9"
      },
      "execution_count": null,
      "outputs": []
    },
    {
      "cell_type": "code",
      "source": [
        "\n",
        "sns.histplot(data = merged_df, x='Sales')"
      ],
      "metadata": {
        "id": "vnsD7J5wvrBE"
      },
      "execution_count": null,
      "outputs": []
    },
    {
      "cell_type": "code",
      "source": [
        "# store closes analysis,\n",
        "# sales are zero on the day when the store is close\n",
        "\n",
        "merged_df.Open.value_counts()"
      ],
      "metadata": {
        "id": "IHilIuFN1pbN"
      },
      "execution_count": null,
      "outputs": []
    },
    {
      "cell_type": "code",
      "source": [
        "(merged_df['Sales']==0).sum()"
      ],
      "metadata": {
        "id": "Jt4pFLJA8N4V"
      },
      "execution_count": null,
      "outputs": []
    },
    {
      "cell_type": "code",
      "source": [
        "merged_df.Sales.value_counts()[0]"
      ],
      "metadata": {
        "id": "RSoBe_mr9Dm1"
      },
      "execution_count": null,
      "outputs": []
    },
    {
      "cell_type": "markdown",
      "source": [
        "### delete rows where the store is closed"
      ],
      "metadata": {
        "id": "gLi99Ihj-kuF"
      }
    },
    {
      "cell_type": "code",
      "source": [
        "# exclude the dates when store was closed\n",
        "merged_df = merged_df[merged_df.Open==1].copy()"
      ],
      "metadata": {
        "id": "syRGUj18AcqV"
      },
      "execution_count": null,
      "outputs": []
    },
    {
      "cell_type": "code",
      "source": [
        "merged_df\n"
      ],
      "metadata": {
        "id": "5SIUUWvyBWr9"
      },
      "execution_count": null,
      "outputs": []
    },
    {
      "cell_type": "code",
      "source": [
        "sns.histplot(merged_df, x='Sales')"
      ],
      "metadata": {
        "id": "RUlQnLTHBYMc"
      },
      "execution_count": null,
      "outputs": []
    },
    {
      "cell_type": "code",
      "source": [
        "merged_df.describe()"
      ],
      "metadata": {
        "id": "jq6pFGPLnkm7"
      },
      "execution_count": null,
      "outputs": []
    },
    {
      "cell_type": "code",
      "source": [
        "temp_df = merged_df.sample(40000)"
      ],
      "metadata": {
        "id": "CV_c7XK6oucb"
      },
      "execution_count": null,
      "outputs": []
    },
    {
      "cell_type": "code",
      "source": [
        "\n",
        "sns.scatterplot(x= temp_df.Sales, y = temp_df.Customers, hue= temp_df.Date.dt.year, alpha = 0.8)\n",
        "plt.title('Sales vs Customers')\n",
        "plt.show()"
      ],
      "metadata": {
        "id": "PGNNNL3poCar"
      },
      "execution_count": null,
      "outputs": []
    },
    {
      "cell_type": "code",
      "source": [
        "# Plot the total customers per year\n",
        "\n",
        "total_customers_per_year = temp_df.groupby(temp_df['Date'].dt.year)['Customers'].sum()\n",
        "\n",
        "\n",
        "plt.figure(figsize=(10, 6))\n",
        "sns.barplot(x=total_customers_per_year.index, y=total_customers_per_year.values, color='skyblue')\n",
        "plt.title('Total Customers per Year')\n",
        "plt.xlabel('Year')\n",
        "plt.ylabel('Total Customers')\n",
        "plt.show()"
      ],
      "metadata": {
        "id": "Qpsj661Dpct7"
      },
      "execution_count": null,
      "outputs": []
    },
    {
      "cell_type": "code",
      "source": [
        "temp_df = merged_df.sample(10000)\n",
        "sns.scatterplot(x = temp_df.Store, y= temp_df.Sales, hue=  temp_df.Date.dt.year, alpha =0.8)\n",
        "plt.title(\"stores vs sales\")\n",
        "plt.show()"
      ],
      "metadata": {
        "id": "23ABBsvYqFaD"
      },
      "execution_count": null,
      "outputs": []
    },
    {
      "cell_type": "code",
      "source": [
        "sns.barplot(data=merged_df, x='DayOfWeek', y='Sales', hue=True)"
      ],
      "metadata": {
        "id": "_4-0wBkV0UV7"
      },
      "execution_count": null,
      "outputs": []
    },
    {
      "cell_type": "code",
      "source": [
        "sns.barplot(merged_df, x='Promo', y ='Sales', palette='husl')"
      ],
      "metadata": {
        "id": "BR1xBdEf0cZ7"
      },
      "execution_count": null,
      "outputs": []
    },
    {
      "cell_type": "code",
      "source": [
        "merged_df"
      ],
      "metadata": {
        "id": "P7BjatRgzP8O"
      },
      "execution_count": null,
      "outputs": []
    },
    {
      "cell_type": "code",
      "source": [
        "merged_df.Promo.unique()"
      ],
      "metadata": {
        "id": "d81kJAG40VR0"
      },
      "execution_count": null,
      "outputs": []
    },
    {
      "cell_type": "code",
      "source": [
        "merged_df.corr()['Sales'].sort_values(ascending=False)"
      ],
      "metadata": {
        "id": "qGL58S6R0bTs"
      },
      "execution_count": null,
      "outputs": []
    },
    {
      "cell_type": "code",
      "source": [
        "merged_df.Sales.corr(merged_df.Promo)"
      ],
      "metadata": {
        "id": "iBJ-uYDj0tuK"
      },
      "execution_count": null,
      "outputs": []
    },
    {
      "cell_type": "code",
      "source": [
        "merged_df.corr()"
      ],
      "metadata": {
        "id": "4plfw1sb1l5D"
      },
      "execution_count": null,
      "outputs": []
    },
    {
      "cell_type": "code",
      "source": [
        "sns.heatmap(merged_df.corr(), annot=True, cmap='coolwarm', fmt=\".2f\")\n",
        "plt.title('COrrelationMatrx')\n",
        "plt.show()"
      ],
      "metadata": {
        "id": "LeuAqvzm1uXT"
      },
      "execution_count": null,
      "outputs": []
    },
    {
      "cell_type": "markdown",
      "source": [
        "# **Feature Engineering**\n",
        "\n",
        "Feature engineer is the process of creating new features (columns) by transforming/combining existing features or by incorporating data from external sources.\n",
        "\n",
        "\n",
        "For example, here are some features that can be extracted from the \"Date\" column:\n",
        "\n",
        "1. Day of week\n",
        "2. Day or month\n",
        "3. Month\n",
        "4. Year\n",
        "5. Weekend/Weekday\n",
        "6. Month/Quarter End\n"
      ],
      "metadata": {
        "id": "OrhyJ_CLxC0y"
      }
    },
    {
      "cell_type": "code",
      "source": [
        "merged_df['Day'] = merged_df.Date.dt.day\n",
        "merged_df['Month'] = merged_df.Date.dt.month\n",
        "merged_df['Year'] = merged_df.Date.dt.year"
      ],
      "metadata": {
        "id": "JJ7mBm2r24Dr"
      },
      "execution_count": null,
      "outputs": []
    },
    {
      "cell_type": "code",
      "source": [
        "merged_test_df['Day'] = merged_test_df.Date.dt.day\n",
        "merged_test_df['Month'] = merged_test_df.Date.dt.month\n",
        "merged_test_df['Year'] = merged_test_df.Date.dt.year"
      ],
      "metadata": {
        "id": "3hMHBnOQ2JUR"
      },
      "execution_count": null,
      "outputs": []
    },
    {
      "cell_type": "code",
      "source": [
        "sns.barplot(merged_df, x='Year',y='Sales', palette='husl')"
      ],
      "metadata": {
        "id": "H3QSs7yK2cCA"
      },
      "execution_count": null,
      "outputs": []
    },
    {
      "cell_type": "code",
      "source": [
        "sns.barplot(merged_df, x='Month', y='Sales')"
      ],
      "metadata": {
        "id": "ZER-tX702iCY"
      },
      "execution_count": null,
      "outputs": []
    },
    {
      "cell_type": "code",
      "source": [
        "merged_df"
      ],
      "metadata": {
        "id": "sKbOSdlTjJgT"
      },
      "execution_count": null,
      "outputs": []
    },
    {
      "cell_type": "code",
      "source": [
        "#merged_df.Year.value_counts()"
      ],
      "metadata": {
        "id": "cMaFALSOjOBC"
      },
      "execution_count": null,
      "outputs": []
    },
    {
      "cell_type": "code",
      "source": [],
      "metadata": {
        "id": "W6WpGXlxjTQy"
      },
      "execution_count": null,
      "outputs": []
    }
  ]
}