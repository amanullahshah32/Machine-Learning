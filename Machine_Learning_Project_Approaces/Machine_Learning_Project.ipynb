{
  "nbformat": 4,
  "nbformat_minor": 0,
  "metadata": {
    "colab": {
      "provenance": [],
      "authorship_tag": "ABX9TyP/esutQb8hdvK1DNgJrKsZ",
      "include_colab_link": true
    },
    "kernelspec": {
      "name": "python3",
      "display_name": "Python 3"
    },
    "language_info": {
      "name": "python"
    }
  },
  "cells": [
    {
      "cell_type": "markdown",
      "metadata": {
        "id": "view-in-github",
        "colab_type": "text"
      },
      "source": [
        "<a href=\"https://colab.research.google.com/github/amanullahshah32/Machine-Learning/blob/main/Machine_Learning_Project_Approaces/Machine_Learning_Project.ipynb\" target=\"_parent\"><img src=\"https://colab.research.google.com/assets/colab-badge.svg\" alt=\"Open In Colab\"/></a>"
      ]
    },
    {
      "cell_type": "markdown",
      "source": [
        "Steps for   approaching ML problems:\n",
        "\n",
        "1. Understand the business requirements and the nature of the available data.\n",
        "2. Classify the problem as supervised/unsupervised and regression/classification.\n",
        "3. Download, clean & explore the data and create new features that may improve models.\n",
        "4. Create training/test/validation sets and prepare the data for training ML models.\n",
        "5. Create a quick & easy baseline model to evaluate and benchmark future models.\n",
        "6. Pick a modeling strategy, train a model, and tune hyperparameters to achieve optimal fit.\n",
        "7. Experiment and combine results from multiple strategies to get a better result.\n",
        "8. Interpret models, study individual predictions, and present your findings."
      ],
      "metadata": {
        "id": "dE-a1o0f-mPV"
      }
    },
    {
      "cell_type": "code",
      "execution_count": null,
      "metadata": {
        "id": "Xh9TcwOa-OuM"
      },
      "outputs": [],
      "source": [
        "import matplotlib\n",
        "import numpy as np\n",
        "import pandas as pd\n",
        "import matplotlib.pyplot as plt\n",
        "import seaborn as sns\n",
        "import plotly.express as px\n",
        "%matplotlib inline\n",
        "\n",
        "sns.set_style('darkgrid')\n",
        "matplotlib.rcParams['font.size'] = 14\n",
        "matplotlib.rcParams['figure.figsize'] = (10, 6)\n",
        "matplotlib.rcParams['figure.facecolor'] = '#00000000'"
      ]
    },
    {
      "cell_type": "markdown",
      "source": [
        "## Step 1 - Understand Business Requirements & Nature of Data\n",
        "\n",
        "<img src=\"https://i.imgur.com/63XEArk.png\" width=\"640\">\n",
        "\n",
        "\n",
        "Most machine learning models are trained to serve a real-world use case. It's important to understand the business requirements, modeling objectives and the nature of the data available before you start building a machine learning model."
      ],
      "metadata": {
        "id": "VhV-DHFbFG5E"
      }
    },
    {
      "cell_type": "markdown",
      "source": [
        "### Understanding the Big Picture\n",
        "\n",
        "The first step in any machine learning problem is to read the given documentation, talk to various stakeholders and identify the following:\n",
        "\n",
        "1. What is the business problem you're trying to solve using machine learning?\n",
        "2. Why are we interested in solving this problem? What impact will it have on the business?\n",
        "3. How is this problem solved currently, without any machine learning tools?\n",
        "4. Who will use the results of this model, and how does it fit into other business processes?\n",
        "5. How much historical data do we have, and how was it collected?\n",
        "6. What features does the historical data contain? Does it contain the historical values for what we're trying to predict.\n",
        "7. What are some known issues with the data (data entry errors, missing data, differences in units etc.)\n",
        "8. Can we look at some sample rows from the dataset? How representative are they of the entire dataset.\n",
        "9. Where is the data stored and how will you get access to it?\n",
        "10. ...\n",
        "\n",
        "\n",
        "Gather as much information about the problem as possible, so that you're clear understanding of the objective and feasibility of the project."
      ],
      "metadata": {
        "id": "Uau5bu7EG8j9"
      }
    },
    {
      "cell_type": "code",
      "source": [],
      "metadata": {
        "id": "7hbmhsTH_b-1"
      },
      "execution_count": null,
      "outputs": []
    }
  ]
}